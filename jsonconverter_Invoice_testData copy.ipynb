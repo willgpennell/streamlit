{
 "cells": [
  {
   "cell_type": "code",
   "execution_count": 1,
   "metadata": {},
   "outputs": [],
   "source": [
    "import pandas as pd\n",
    "import json\n",
    "from dotenv import load_dotenv"
   ]
  },
  {
   "cell_type": "code",
   "execution_count": 7,
   "metadata": {},
   "outputs": [
    {
     "data": {
      "text/plain": [
       "'{\\n  \"dataframe1\": [\\n    {\"A\": 1, \"B\": 2, \"C\": 3},\\n    {\"A\": 4, \"B\": 5, \"C\": 6},\\n    {\"A\": 7, \"B\": 8, \"C\": 9}\\n  ],\\n  \"dataframe2\": [\\n    {\"X\": \"apple\", \"Y\": \"orange\", \"Z\": \"banana\"},\\n    {\"X\": \"grape\", \"Y\": \"berry\", \"Z\": \"melon\"}\\n  ]\\n}'"
      ]
     },
     "execution_count": 7,
     "metadata": {},
     "output_type": "execute_result"
    }
   ],
   "source": [
    "json_data = '''{\n",
    "  \"dataframe1\": [\n",
    "    {\"A\": 1, \"B\": 2, \"C\": 3},\n",
    "    {\"A\": 4, \"B\": 5, \"C\": 6},\n",
    "    {\"A\": 7, \"B\": 8, \"C\": 9}\n",
    "  ],\n",
    "  \"dataframe2\": [\n",
    "    {\"X\": \"apple\", \"Y\": \"orange\", \"Z\": \"banana\"},\n",
    "    {\"X\": \"grape\", \"Y\": \"berry\", \"Z\": \"melon\"}\n",
    "  ]\n",
    "}'''\n",
    "json_data"
   ]
  },
  {
   "cell_type": "code",
   "execution_count": 8,
   "metadata": {},
   "outputs": [
    {
     "data": {
      "text/plain": [
       "{'dataframe1': [{'A': 1, 'B': 2, 'C': 3},\n",
       "  {'A': 4, 'B': 5, 'C': 6},\n",
       "  {'A': 7, 'B': 8, 'C': 9}],\n",
       " 'dataframe2': [{'X': 'apple', 'Y': 'orange', 'Z': 'banana'},\n",
       "  {'X': 'grape', 'Y': 'berry', 'Z': 'melon'}]}"
      ]
     },
     "execution_count": 8,
     "metadata": {},
     "output_type": "execute_result"
    }
   ],
   "source": [
    "data = json.loads(json_data)\n",
    "data"
   ]
  },
  {
   "cell_type": "code",
   "execution_count": null,
   "metadata": {},
   "outputs": [],
   "source": [
    "dataframes_dict = {}\n",
    "\n",
    "for key, value in data.items():\n",
    "    df = pd.DataFrame(value)\n",
    "    dataframes_dict[key] = df"
   ]
  }
 ],
 "metadata": {
  "kernelspec": {
   "display_name": "venv",
   "language": "python",
   "name": "python3"
  },
  "language_info": {
   "codemirror_mode": {
    "name": "ipython",
    "version": 3
   },
   "file_extension": ".py",
   "mimetype": "text/x-python",
   "name": "python",
   "nbconvert_exporter": "python",
   "pygments_lexer": "ipython3",
   "version": "3.12.3"
  }
 },
 "nbformat": 4,
 "nbformat_minor": 2
}
